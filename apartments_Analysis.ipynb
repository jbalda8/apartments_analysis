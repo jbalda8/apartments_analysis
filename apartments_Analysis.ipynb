{
 "cells": [
  {
   "cell_type": "markdown",
   "id": "0151b422",
   "metadata": {},
   "source": [
    "## Import Data <a class=\"anchor\" id=\"first-bullet\"></a>"
   ]
  },
  {
   "cell_type": "code",
   "execution_count": 40,
   "id": "1929d281",
   "metadata": {
    "scrolled": true
   },
   "outputs": [
    {
     "data": {
      "text/html": [
       "<div>\n",
       "<style scoped>\n",
       "    .dataframe tbody tr th:only-of-type {\n",
       "        vertical-align: middle;\n",
       "    }\n",
       "\n",
       "    .dataframe tbody tr th {\n",
       "        vertical-align: top;\n",
       "    }\n",
       "\n",
       "    .dataframe thead th {\n",
       "        text-align: right;\n",
       "    }\n",
       "</style>\n",
       "<table border=\"1\" class=\"dataframe\">\n",
       "  <thead>\n",
       "    <tr style=\"text-align: right;\">\n",
       "      <th></th>\n",
       "      <th>name</th>\n",
       "      <th>address</th>\n",
       "      <th>min_price</th>\n",
       "      <th>max_price</th>\n",
       "      <th>link</th>\n",
       "    </tr>\n",
       "  </thead>\n",
       "  <tbody>\n",
       "    <tr>\n",
       "      <th>0</th>\n",
       "      <td>The Whit</td>\n",
       "      <td>307 N Pennsylvania St, Indianapolis, IN 46204</td>\n",
       "      <td>1423</td>\n",
       "      <td>1880</td>\n",
       "      <td>https://www.apartments.com/the-whit-indianapol...</td>\n",
       "    </tr>\n",
       "    <tr>\n",
       "      <th>1</th>\n",
       "      <td>The Residences on 56th Street</td>\n",
       "      <td>6800 Brendon Way W Dr, Indianapolis, IN 46226</td>\n",
       "      <td>925</td>\n",
       "      <td>925</td>\n",
       "      <td>https://www.apartments.com/the-residences-on-5...</td>\n",
       "    </tr>\n",
       "    <tr>\n",
       "      <th>2</th>\n",
       "      <td>The Meridian South</td>\n",
       "      <td>2085 Waterford Pl, Indianapolis, IN 46260</td>\n",
       "      <td>835</td>\n",
       "      <td>1005</td>\n",
       "      <td>https://www.apartments.com/the-meridian-south-...</td>\n",
       "    </tr>\n",
       "    <tr>\n",
       "      <th>3</th>\n",
       "      <td>Pinnacle on Meridian</td>\n",
       "      <td>8555 One West Dr, Indianapolis, IN 46260</td>\n",
       "      <td>2600</td>\n",
       "      <td>2600</td>\n",
       "      <td>https://www.apartments.com/pinnacle-on-meridia...</td>\n",
       "    </tr>\n",
       "    <tr>\n",
       "      <th>4</th>\n",
       "      <td>Cosmopolitan on the Canal</td>\n",
       "      <td>310 W Michigan St, Indianapolis, IN 46202</td>\n",
       "      <td>1428</td>\n",
       "      <td>1826</td>\n",
       "      <td>https://www.apartments.com/cosmopolitan-on-the...</td>\n",
       "    </tr>\n",
       "    <tr>\n",
       "      <th>5</th>\n",
       "      <td>747 Apartments</td>\n",
       "      <td>747 N College Ave, Indianapolis, IN 46202</td>\n",
       "      <td>1580</td>\n",
       "      <td>1831</td>\n",
       "      <td>https://www.apartments.com/747-apartments-indi...</td>\n",
       "    </tr>\n",
       "    <tr>\n",
       "      <th>6</th>\n",
       "      <td>Edison at Meridian Hills</td>\n",
       "      <td>811 Antique Ct, Indianapolis, IN 46260</td>\n",
       "      <td>1029</td>\n",
       "      <td>1229</td>\n",
       "      <td>https://www.apartments.com/edison-at-meridian-...</td>\n",
       "    </tr>\n",
       "    <tr>\n",
       "      <th>7</th>\n",
       "      <td>Circa Apartments</td>\n",
       "      <td>617 N College Ave, Indianapolis, IN 46204</td>\n",
       "      <td>1342</td>\n",
       "      <td>2342</td>\n",
       "      <td>https://www.apartments.com/circa-apartments-in...</td>\n",
       "    </tr>\n",
       "    <tr>\n",
       "      <th>8</th>\n",
       "      <td>Encore 55+ Boutique Apartments</td>\n",
       "      <td>6675 E 75th St, Indianapolis, IN 46250</td>\n",
       "      <td>1395</td>\n",
       "      <td>1395</td>\n",
       "      <td>https://www.apartments.com/encore-55-boutique-...</td>\n",
       "    </tr>\n",
       "    <tr>\n",
       "      <th>9</th>\n",
       "      <td>Canal Square</td>\n",
       "      <td>359 N West St, Indianapolis, IN 46202</td>\n",
       "      <td>1034</td>\n",
       "      <td>1649</td>\n",
       "      <td>https://www.apartments.com/canal-square-indian...</td>\n",
       "    </tr>\n",
       "  </tbody>\n",
       "</table>\n",
       "</div>"
      ],
      "text/plain": [
       "                             name  \\\n",
       "0                        The Whit   \n",
       "1   The Residences on 56th Street   \n",
       "2              The Meridian South   \n",
       "3            Pinnacle on Meridian   \n",
       "4       Cosmopolitan on the Canal   \n",
       "5                  747 Apartments   \n",
       "6        Edison at Meridian Hills   \n",
       "7                Circa Apartments   \n",
       "8  Encore 55+ Boutique Apartments   \n",
       "9                    Canal Square   \n",
       "\n",
       "                                         address  min_price  max_price  \\\n",
       "0  307 N Pennsylvania St, Indianapolis, IN 46204       1423       1880   \n",
       "1  6800 Brendon Way W Dr, Indianapolis, IN 46226        925        925   \n",
       "2      2085 Waterford Pl, Indianapolis, IN 46260        835       1005   \n",
       "3       8555 One West Dr, Indianapolis, IN 46260       2600       2600   \n",
       "4      310 W Michigan St, Indianapolis, IN 46202       1428       1826   \n",
       "5      747 N College Ave, Indianapolis, IN 46202       1580       1831   \n",
       "6         811 Antique Ct, Indianapolis, IN 46260       1029       1229   \n",
       "7      617 N College Ave, Indianapolis, IN 46204       1342       2342   \n",
       "8         6675 E 75th St, Indianapolis, IN 46250       1395       1395   \n",
       "9          359 N West St, Indianapolis, IN 46202       1034       1649   \n",
       "\n",
       "                                                link  \n",
       "0  https://www.apartments.com/the-whit-indianapol...  \n",
       "1  https://www.apartments.com/the-residences-on-5...  \n",
       "2  https://www.apartments.com/the-meridian-south-...  \n",
       "3  https://www.apartments.com/pinnacle-on-meridia...  \n",
       "4  https://www.apartments.com/cosmopolitan-on-the...  \n",
       "5  https://www.apartments.com/747-apartments-indi...  \n",
       "6  https://www.apartments.com/edison-at-meridian-...  \n",
       "7  https://www.apartments.com/circa-apartments-in...  \n",
       "8  https://www.apartments.com/encore-55-boutique-...  \n",
       "9  https://www.apartments.com/canal-square-indian...  "
      ]
     },
     "execution_count": 40,
     "metadata": {},
     "output_type": "execute_result"
    }
   ],
   "source": [
    "import pandas as pd\n",
    "# Read json file created from Scrapy python package (Web Scraping from apartments.com)\n",
    "df = pd.read_json('/home/jbalda/Desktop/rentIndy-scrape/rentScraper/rentScraper/rentals.json')\n",
    "# Print first 10 lines\n",
    "df.head(10)"
   ]
  },
  {
   "cell_type": "markdown",
   "id": "7165c266",
   "metadata": {},
   "source": [
    "## Add Apartment Coordinates Using Address (Geocode) <a class=\"anchor\" id=\"second-bullet\"></a>"
   ]
  },
  {
   "cell_type": "code",
   "execution_count": null,
   "id": "6f9426ab",
   "metadata": {},
   "outputs": [],
   "source": [
    "# Install packages for conversion\n",
    "!pip install geopy"
   ]
  },
  {
   "cell_type": "code",
   "execution_count": 63,
   "id": "cc8dfc6b",
   "metadata": {},
   "outputs": [],
   "source": [
    "# Import geocoder\n",
    "import geopy\n",
    "from geopy.geocoders import Nominatim"
   ]
  },
  {
   "cell_type": "code",
   "execution_count": 69,
   "id": "04a2ec74",
   "metadata": {},
   "outputs": [],
   "source": [
    "# Create lists to hold coordinate values\n",
    "latitude_values = []\n",
    "longitude_values = []\n",
    "\n",
    "# For loop that iterates between addresses in dataframe \n",
    "for address in df['address']:\n",
    "    # Nominatim is the geocoder\n",
    "    locator = Nominatim(user_agent='myGeocode').geocode(address)\n",
    "    try:\n",
    "        latitude_values.append(locator.latitude)\n",
    "        longitude_values.append(locator.longitude)\n",
    "    # If address cannot be located, lat and long is set to None\n",
    "    except:\n",
    "        latitude_values.append(None)\n",
    "        longitude_values.append(None)\n",
    "\n",
    "# Add latitude and longitude values to dataframe as new columns \n",
    "df['latitude'] = latitude_values\n",
    "df['longitude'] = longitude_values"
   ]
  },
  {
   "cell_type": "code",
   "execution_count": 72,
   "id": "94d77ff6",
   "metadata": {},
   "outputs": [
    {
     "data": {
      "text/html": [
       "<div>\n",
       "<style scoped>\n",
       "    .dataframe tbody tr th:only-of-type {\n",
       "        vertical-align: middle;\n",
       "    }\n",
       "\n",
       "    .dataframe tbody tr th {\n",
       "        vertical-align: top;\n",
       "    }\n",
       "\n",
       "    .dataframe thead th {\n",
       "        text-align: right;\n",
       "    }\n",
       "</style>\n",
       "<table border=\"1\" class=\"dataframe\">\n",
       "  <thead>\n",
       "    <tr style=\"text-align: right;\">\n",
       "      <th></th>\n",
       "      <th>name</th>\n",
       "      <th>address</th>\n",
       "      <th>min_price</th>\n",
       "      <th>max_price</th>\n",
       "      <th>link</th>\n",
       "      <th>latitude</th>\n",
       "      <th>longitude</th>\n",
       "    </tr>\n",
       "  </thead>\n",
       "  <tbody>\n",
       "    <tr>\n",
       "      <th>0</th>\n",
       "      <td>The Whit</td>\n",
       "      <td>307 N Pennsylvania St, Indianapolis, IN 46204</td>\n",
       "      <td>1423</td>\n",
       "      <td>1880</td>\n",
       "      <td>https://www.apartments.com/the-whit-indianapol...</td>\n",
       "      <td>39.771689</td>\n",
       "      <td>-86.155606</td>\n",
       "    </tr>\n",
       "    <tr>\n",
       "      <th>1</th>\n",
       "      <td>The Residences on 56th Street</td>\n",
       "      <td>6800 Brendon Way W Dr, Indianapolis, IN 46226</td>\n",
       "      <td>925</td>\n",
       "      <td>925</td>\n",
       "      <td>https://www.apartments.com/the-residences-on-5...</td>\n",
       "      <td>39.857498</td>\n",
       "      <td>-86.052062</td>\n",
       "    </tr>\n",
       "    <tr>\n",
       "      <th>2</th>\n",
       "      <td>The Meridian South</td>\n",
       "      <td>2085 Waterford Pl, Indianapolis, IN 46260</td>\n",
       "      <td>835</td>\n",
       "      <td>1005</td>\n",
       "      <td>https://www.apartments.com/the-meridian-south-...</td>\n",
       "      <td>39.885046</td>\n",
       "      <td>-86.197907</td>\n",
       "    </tr>\n",
       "    <tr>\n",
       "      <th>3</th>\n",
       "      <td>Pinnacle on Meridian</td>\n",
       "      <td>8555 One West Dr, Indianapolis, IN 46260</td>\n",
       "      <td>2600</td>\n",
       "      <td>2600</td>\n",
       "      <td>https://www.apartments.com/pinnacle-on-meridia...</td>\n",
       "      <td>39.911645</td>\n",
       "      <td>-86.158829</td>\n",
       "    </tr>\n",
       "    <tr>\n",
       "      <th>4</th>\n",
       "      <td>Cosmopolitan on the Canal</td>\n",
       "      <td>310 W Michigan St, Indianapolis, IN 46202</td>\n",
       "      <td>1428</td>\n",
       "      <td>1826</td>\n",
       "      <td>https://www.apartments.com/cosmopolitan-on-the...</td>\n",
       "      <td>39.774308</td>\n",
       "      <td>-86.166611</td>\n",
       "    </tr>\n",
       "    <tr>\n",
       "      <th>5</th>\n",
       "      <td>747 Apartments</td>\n",
       "      <td>747 N College Ave, Indianapolis, IN 46202</td>\n",
       "      <td>1580</td>\n",
       "      <td>1831</td>\n",
       "      <td>https://www.apartments.com/747-apartments-indi...</td>\n",
       "      <td>39.777218</td>\n",
       "      <td>-86.145154</td>\n",
       "    </tr>\n",
       "    <tr>\n",
       "      <th>6</th>\n",
       "      <td>Edison at Meridian Hills</td>\n",
       "      <td>811 Antique Ct, Indianapolis, IN 46260</td>\n",
       "      <td>1029</td>\n",
       "      <td>1229</td>\n",
       "      <td>https://www.apartments.com/edison-at-meridian-...</td>\n",
       "      <td>39.873464</td>\n",
       "      <td>-86.173578</td>\n",
       "    </tr>\n",
       "    <tr>\n",
       "      <th>7</th>\n",
       "      <td>Circa Apartments</td>\n",
       "      <td>617 N College Ave, Indianapolis, IN 46204</td>\n",
       "      <td>1342</td>\n",
       "      <td>2342</td>\n",
       "      <td>https://www.apartments.com/circa-apartments-in...</td>\n",
       "      <td>39.775415</td>\n",
       "      <td>-86.145225</td>\n",
       "    </tr>\n",
       "    <tr>\n",
       "      <th>8</th>\n",
       "      <td>Encore 55+ Boutique Apartments</td>\n",
       "      <td>6675 E 75th St, Indianapolis, IN 46250</td>\n",
       "      <td>1395</td>\n",
       "      <td>1395</td>\n",
       "      <td>https://www.apartments.com/encore-55-boutique-...</td>\n",
       "      <td>39.890606</td>\n",
       "      <td>-86.053987</td>\n",
       "    </tr>\n",
       "    <tr>\n",
       "      <th>9</th>\n",
       "      <td>Canal Square</td>\n",
       "      <td>359 N West St, Indianapolis, IN 46202</td>\n",
       "      <td>1034</td>\n",
       "      <td>1649</td>\n",
       "      <td>https://www.apartments.com/canal-square-indian...</td>\n",
       "      <td>39.767950</td>\n",
       "      <td>-86.166954</td>\n",
       "    </tr>\n",
       "  </tbody>\n",
       "</table>\n",
       "</div>"
      ],
      "text/plain": [
       "                             name  \\\n",
       "0                        The Whit   \n",
       "1   The Residences on 56th Street   \n",
       "2              The Meridian South   \n",
       "3            Pinnacle on Meridian   \n",
       "4       Cosmopolitan on the Canal   \n",
       "5                  747 Apartments   \n",
       "6        Edison at Meridian Hills   \n",
       "7                Circa Apartments   \n",
       "8  Encore 55+ Boutique Apartments   \n",
       "9                    Canal Square   \n",
       "\n",
       "                                         address  min_price  max_price  \\\n",
       "0  307 N Pennsylvania St, Indianapolis, IN 46204       1423       1880   \n",
       "1  6800 Brendon Way W Dr, Indianapolis, IN 46226        925        925   \n",
       "2      2085 Waterford Pl, Indianapolis, IN 46260        835       1005   \n",
       "3       8555 One West Dr, Indianapolis, IN 46260       2600       2600   \n",
       "4      310 W Michigan St, Indianapolis, IN 46202       1428       1826   \n",
       "5      747 N College Ave, Indianapolis, IN 46202       1580       1831   \n",
       "6         811 Antique Ct, Indianapolis, IN 46260       1029       1229   \n",
       "7      617 N College Ave, Indianapolis, IN 46204       1342       2342   \n",
       "8         6675 E 75th St, Indianapolis, IN 46250       1395       1395   \n",
       "9          359 N West St, Indianapolis, IN 46202       1034       1649   \n",
       "\n",
       "                                                link   latitude  longitude  \n",
       "0  https://www.apartments.com/the-whit-indianapol...  39.771689 -86.155606  \n",
       "1  https://www.apartments.com/the-residences-on-5...  39.857498 -86.052062  \n",
       "2  https://www.apartments.com/the-meridian-south-...  39.885046 -86.197907  \n",
       "3  https://www.apartments.com/pinnacle-on-meridia...  39.911645 -86.158829  \n",
       "4  https://www.apartments.com/cosmopolitan-on-the...  39.774308 -86.166611  \n",
       "5  https://www.apartments.com/747-apartments-indi...  39.777218 -86.145154  \n",
       "6  https://www.apartments.com/edison-at-meridian-...  39.873464 -86.173578  \n",
       "7  https://www.apartments.com/circa-apartments-in...  39.775415 -86.145225  \n",
       "8  https://www.apartments.com/encore-55-boutique-...  39.890606 -86.053987  \n",
       "9  https://www.apartments.com/canal-square-indian...  39.767950 -86.166954  "
      ]
     },
     "execution_count": 72,
     "metadata": {},
     "output_type": "execute_result"
    }
   ],
   "source": [
    "# Print first 10 rows of updated dataframe. Note the new latitude and longitude columns\n",
    "df.head(10)"
   ]
  },
  {
   "cell_type": "markdown",
   "id": "8efc9332",
   "metadata": {},
   "source": [
    "## Visualize Apartment Locations <a class=\"anchor\" id=\"third-bullet\"></a>"
   ]
  },
  {
   "cell_type": "code",
   "execution_count": 85,
   "id": "b720bcf7",
   "metadata": {},
   "outputs": [
    {
     "data": {
      "image/png": "[encoded data removed]",
      "text/plain": [
       "<Figure size 432x288 with 1 Axes>"
      ]
     },
     "metadata": {
      "needs_background": "light"
     },
     "output_type": "display_data"
    }
   ],
   "source": [
    "from matplotlib import pyplot as plt\n",
    "# Graph scatter plot from dataframe with each apartment in blue\n",
    "plt.scatter(x=\"longitude\", y=\"latitude\", data=df, c='blue')\n",
    "plt.title(\"Location of Apartments\")\n",
    "plt.xlabel(\"Longitude\")\n",
    "plt.ylabel(\"Latitude\")\n",
    "plt.grid(color = 'black', linestyle = '--', linewidth = 0.5)\n",
    "plt.show()"
   ]
  },
  {
   "cell_type": "markdown",
   "id": "b6747e80",
   "metadata": {},
   "source": [
    "## Cluster Analysis <a class=\"anchor\" id=\"fourth-bullet\"></a>"
   ]
  },
  {
   "cell_type": "code",
   "execution_count": 107,
   "id": "d17ca2ab",
   "metadata": {
    "scrolled": true
   },
   "outputs": [
    {
     "data": {
      "image/png": "[encoded data removed]",
      "text/plain": [
       "<Figure size 432x288 with 1 Axes>"
      ]
     },
     "metadata": {},
     "output_type": "display_data"
    }
   ],
   "source": [
    "import numpy as np\n",
    "from sklearn.cluster import KMeans\n",
    "\n",
    "latitude_not_none = [x for x in latitude_values if x is not None]\n",
    "longitude_not_none = [x for x in longitude_values if x is not None]\n",
    "\n",
    "d = {'latitude': latitude_not_none, 'longitude': longitude_not_none}\n",
    "\n",
    "data = pd.DataFrame(data=d)\n",
    "\n",
    "coordinates = data[[\"latitude\",\"longitude\"]].to_numpy()\n",
    "\n",
    "lossOfError =[] \n",
    "for i in range(1, 20): \n",
    "    kmeans = KMeans(n_clusters = i, max_iter = 500) \n",
    "    kmeans.fit(coordinates) \n",
    "    lossOfError.append(kmeans.inertia_) \n",
    "    \n",
    "plt.plot(range(1,20), lossOfError)\n",
    "plt.xticks(np.arange(1,20, step=1))\n",
    "plt.title(\"K vs Error Loss\")essentially \n",
    "plt.xlabel(\"K\") \n",
    "plt.ylabel(\"Loss of Error\")\n",
    "plt.show()"
   ]
  },
  {
   "cell_type": "markdown",
   "id": "a1964b86",
   "metadata": {},
   "source": [
    "### Notice it begins to smoothen out after 6 clusters, therefore I will choose 6 clusters in the next step"
   ]
  },
  {
   "cell_type": "code",
   "execution_count": 114,
   "id": "df620079",
   "metadata": {},
   "outputs": [
    {
     "data": {
      "image/png": "[encoded data removed]",
      "text/plain": [
       "<Figure size 432x288 with 1 Axes>"
      ]
     },
     "metadata": {},
     "output_type": "display_data"
    }
   ],
   "source": [
    "kmeans = KMeans(n_clusters = 6, max_iter = 1000)\n",
    "kmeans.fit(coordinates)\n",
    "\n",
    "y_kmeans = kmeans.fit_predict(coordinates)\n",
    "\n",
    "# Plot cluster\n",
    "plt.scatter(coordinates[y_kmeans ==0,0], coordinates[y_kmeans == 0,1], s=150, c='yellow')\n",
    "plt.scatter(coordinates[y_kmeans ==1,0], coordinates[y_kmeans == 1,1], s=150, c='blue')\n",
    "plt.scatter(coordinates[y_kmeans ==2,0], coordinates[y_kmeans == 2,1], s=150, c='green')\n",
    "plt.scatter(coordinates[y_kmeans ==3,0], coordinates[y_kmeans == 3,1], s=150, c='black')\n",
    "plt.scatter(coordinates[y_kmeans ==4,0], coordinates[y_kmeans == 4,1], s=150, c='brown')\n",
    "plt.scatter(coordinates[y_kmeans ==5,0], coordinates[y_kmeans == 5,1], s=150, c='purple')\n",
    "\n",
    "plt.title(\"Clustering of Apartments\")\n",
    "plt.xlabel(\"Longitude\")\n",
    "plt.ylabel(\"Latitude\")\n",
    "\n",
    "plt.show()"
   ]
  },
  {
   "cell_type": "markdown",
   "id": "456ac26d",
   "metadata": {},
   "source": [
    "As you can see we have six clusters, all describing areas of Indianapolis with highly dense populations (I am making this assumption based on initial images from apartments.com and my knowledge of the Indianapolis area). Although I was not able to scrape all the data from apartments.com, it appears to be enough to get a good idea of Indianapolis in terms of apartment locations. "
   ]
  }
 ],
 "metadata": {
  "kernelspec": {
   "display_name": "Python 3",
   "language": "python",
   "name": "python3"
  },
  "language_info": {
   "codemirror_mode": {
    "name": "ipython",
    "version": 3
   },
   "file_extension": ".py",
   "mimetype": "text/x-python",
   "name": "python",
   "nbconvert_exporter": "python",
   "pygments_lexer": "ipython3",
   "version": "3.8.8"
  }
 },
 "nbformat": 4,
 "nbformat_minor": 5
}
